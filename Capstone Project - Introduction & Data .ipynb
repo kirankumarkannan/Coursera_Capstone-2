{
 "cells": [
  {
   "cell_type": "markdown",
   "metadata": {},
   "source": [
    "# Introduction: \n",
    "New York City's is a large and ethnically diverse metropolis. It is the largest city in the United States with a long history of international immigration. New York City was home to nearly 8.5 million people in 2014, accounting for over 40% of the population of New York State and a slightly lower percentage of the New York metropolitan area, home to approximately 23.6 million. Over the last decade the city has been growing faster than the region. The New York region continues to be by far the leading metropolitan gateway for legal immigrants admitted into the United States.\n",
    "\n",
    "With its diverse culture, comes diverse food items. There are many restaurants in New York City, each belonging to different categories like Chinese, Indian, and French etc.\n",
    "\n",
    "So as part of this project , we will list and visualize all major parts of New York City that has great Chinese restaurant. "
   ]
  },
  {
   "cell_type": "markdown",
   "metadata": {},
   "source": [
    "# Problem:\n",
    "To find the answers to the following questions: \n",
    "1. What are best location in New York City for Chinese restaurant?\n",
    "2. Which areas have potential Chinese restaurant market?\n",
    "3. Which all areas lack Chinese restaurants?\n",
    "4. Which is the best Chinese restaurant in New York City?\n"
   ]
  },
  {
   "cell_type": "markdown",
   "metadata": {},
   "source": [
    "# Data Section:\n",
    "For this project we want the following data:\n",
    "•\tNew York City data that contains list Boroughs, Neighbourhoods along with their latitude and longitude.\n",
    "\tData source : https://cocl.us/new_york_dataset\n",
    "\tDescription: This data set contains the required information. And we will use this data set to explore various neighbourhoods of New York City\n",
    "\n",
    "•\tChinese restaurants in each neighbourhood of New York City.\n",
    "\tData source : Foursquare API\n",
    "\tDescription: By using this API we will get all the venues in each neighbourhood. We can filter these venues to get only Indian restaurants.\n",
    "\n",
    "•\tGeoSpace data\n",
    "\tData source : https://data.cityofnewyork.us/City-Government/Borough-Boundaries/tqmj-j8zm\n",
    "\tDescription: By using this geo space data we will get the New York Borough boundaries that will help us visualize choropleth map.\n"
   ]
  },
  {
   "cell_type": "code",
   "execution_count": null,
   "metadata": {},
   "outputs": [],
   "source": []
  }
 ],
 "metadata": {
  "kernelspec": {
   "display_name": "Python 3",
   "language": "python",
   "name": "python3"
  },
  "language_info": {
   "codemirror_mode": {
    "name": "ipython",
    "version": 3
   },
   "file_extension": ".py",
   "mimetype": "text/x-python",
   "name": "python",
   "nbconvert_exporter": "python",
   "pygments_lexer": "ipython3",
   "version": "3.7.4"
  }
 },
 "nbformat": 4,
 "nbformat_minor": 2
}
